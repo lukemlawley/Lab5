{
 "cells": [
  {
   "cell_type": "markdown",
   "id": "4e70be69",
   "metadata": {},
   "source": [
    "# Lab 5\n",
    "\n",
    "[![image](https://colab.research.google.com/assets/colab-badge.svg)](https://colab.research.google.com/github/lukemlawley/Lab5/blob/main/Lawley_Luke_Lab5.ipynb)\n",
    "\n",
    "## Submission instructions\n",
    "\n",
    "1. Download the notebook from https://geosdemo.gishub.org/labs/lab5\n",
    "2. Complete the lab questions\n",
    "3. Restart Kernel and Run All Cells\n",
    "4. Upload the notebook to your GitHub repository\n",
    "5. Make sure the notebook has an `Open In Colab` badge. Click on the badge to make sure your notebook can be opened in Colab.\n",
    "6. Submit the link to the notebook on your GitHub repository to Canvas"
   ]
  },
  {
   "cell_type": "code",
   "execution_count": null,
   "id": "8de60915",
   "metadata": {},
   "outputs": [],
   "source": [
    "from datetime import datetime\n",
    "\n",
    "now = datetime.now()\n",
    "print(f\"Submitted time: {now}\")"
   ]
  },
  {
   "cell_type": "markdown",
   "id": "a526d1ff",
   "metadata": {},
   "source": [
    "## Question 1\n",
    "\n",
    "**Person:** Use a dictionary to store information about a person you know. Store their first name, last name, age, and the city in which they live. You should have keys such as first_name, last_name, age, and city. Print each piece of information stored in your dictionary."
   ]
  },
  {
   "cell_type": "code",
   "execution_count": 4,
   "id": "b30af05b",
   "metadata": {},
   "outputs": [
    {
     "name": "stdout",
     "output_type": "stream",
     "text": [
      "Olivia\n",
      "Lamm\n",
      "21\n",
      "Knoxville\n",
      "Tennessee\n"
     ]
    }
   ],
   "source": [
    "person = {\"first_name\":\"Olivia\", \"last_name\":\"Lamm\", \"age\":\"21\", \"city\":\"Knoxville\", \"state\":\"Tennessee\"}\n",
    "print(person[\"first_name\"])\n",
    "print(person[\"last_name\"])\n",
    "print(person[\"age\"])\n",
    "print(person[\"city\"])\n",
    "print(person[\"state\"])"
   ]
  },
  {
   "cell_type": "markdown",
   "id": "32bb120e",
   "metadata": {},
   "source": [
    "## Question 2\n",
    "\n",
    "**Favorite Numbers:** Use a dictionary to store people’s favorite numbers. Think of five names, and use them as keys in your dictionary. Think of a favorite number for each person, and store each as a value in your dictionary. Print each person’s name and their favorite number. For even more fun, poll a few friends and get some actual data for your program."
   ]
  },
  {
   "cell_type": "code",
   "execution_count": 13,
   "id": "37115a33",
   "metadata": {},
   "outputs": [
    {
     "name": "stdout",
     "output_type": "stream",
     "text": [
      "olivia's favorite number is 21!\n",
      "luke's favorite number is 32!\n",
      "whitty's favorite number is 234345234!\n",
      "tracy's favorite number is 1!\n",
      "michael's favorite number is 34!\n"
     ]
    }
   ],
   "source": [
    "fav_num = {\n",
    "    \"olivia\":\"21\",\n",
    "    \"luke\":\"32\",\n",
    "    \"whitty\":\"234345234\",\n",
    "    \"tracy\":\"1\",\n",
    "    \"michael\":\"34\"\n",
    "    }\n",
    "for key, value in fav_num.items():\n",
    "    print(f\"{key}'s favorite number is {value}!\")"
   ]
  },
  {
   "cell_type": "markdown",
   "id": "eb31ca53",
   "metadata": {},
   "source": [
    "## Question 3\n",
    "\n",
    "**Glossary:** A Python dictionary can be used to model an actual dictionary. However, to avoid confusion, let’s call it a glossary.\n",
    "\n",
    "- Think of five programming words you’ve learned about in the previous chapters. Use these words as the keys in your glossary, and store their meanings as values.\n",
    "- Print each word and its meaning as neatly formatted output. You might print the word followed by a colon and then its meaning, or print the word on one line and then print its meaning indented on a second line. Use the newline character (\\n) to insert a blank line between each word-meaning pair in your output."
   ]
  },
  {
   "cell_type": "code",
   "execution_count": 19,
   "id": "7bdd7f86",
   "metadata": {},
   "outputs": [
    {
     "name": "stdout",
     "output_type": "stream",
     "text": [
      "Array : a container that holds variables\n",
      "Else Statement : used for when a condition is not true\n",
      "Loop : a block of code that is used repeatedly\n",
      "Linux : an open-source operating system\n",
      "Python : a programming language\n"
     ]
    }
   ],
   "source": [
    "key_terms = {\"array\":\"a container that holds variables\", \"else statement\":\"used for when a condition is not true\", \"loop\":\"a block of code that is used repeatedly\", \"linux\":\"an open-source operating system\", \"python\":\"a programming language\"}\n",
    "for key, value in key_terms.items():\n",
    "    print(f\"{key.title()} : {value}\")"
   ]
  },
  {
   "cell_type": "markdown",
   "id": "9bdb2d85",
   "metadata": {},
   "source": [
    "## Question 4\n",
    "\n",
    "**Glossary 2:** Now that you know how to loop through a dictionary, clean up the code from Question 3 by replacing your series of print() calls with a loop that runs through the dictionary’s keys and values. When you’re sure that your loop works, add five more Python terms to your glossary. When you run your program again, these new words and meanings should automatically be included in the output."
   ]
  },
  {
   "cell_type": "code",
   "execution_count": 18,
   "id": "018d37ff",
   "metadata": {},
   "outputs": [
    {
     "name": "stdout",
     "output_type": "stream",
     "text": [
      "An Array is a container that holds variables.\n",
      "An Else Statement is used for when a condition is not true.\n",
      "A Loop is a block of code repeatedly.\n",
      "Linux is an open-source operating system.\n",
      "Python is a programming language.\n",
      "Sfml is an acronym got Simple and Fast Multimedia Library.\n",
      "C++ is another low-level, but versatile language.\n",
      "A Conditional Statement is a means to determine whether a statement is true or false.\n",
      "An If Statement is a code block that is used is the statement is considered true.\n",
      "An Input is any interaction from the user to the program.\n"
     ]
    }
   ],
   "source": [
    "key_terms = {\"an array\":\"a container that holds variables\", \"an else statement\":\"used for when a condition is not true\", \"a loop\":\"a block of code repeatedly\", \"linux\":\"an open-source operating system\", \"python\":\"a programming language\", \"SFML\":\"an acronym got Simple and Fast Multimedia Library\", \"C++\":\"another low-level, but versatile language\", \"a conditional statement\": \"a means to determine whether a statement is true or false\", \"an if statement\": \"a code block that is used is the statement is considered true\", \"an input\":\"any interaction from the user to the program\"}\n",
    "for key, value in key_terms.items():\n",
    "    print(f\"{key.title()} is {value}.\")"
   ]
  },
  {
   "cell_type": "markdown",
   "id": "375356d5",
   "metadata": {},
   "source": [
    "## Question 5\n",
    "\n",
    "**Rivers:** Make a dictionary containing three major rivers and the country each river runs through. One key-value pair might be 'nile': 'egypt'.\n",
    "\n",
    "- Use a loop to print a sentence about each river, such as _The Nile runs through Egypt._\n",
    "- Use a loop to print the name of each river included in the dictionary.\n",
    "- Use a loop to print the name of each country included in the dictionary."
   ]
  },
  {
   "cell_type": "code",
   "execution_count": 22,
   "id": "2fd7b758",
   "metadata": {},
   "outputs": [
    {
     "name": "stdout",
     "output_type": "stream",
     "text": [
      "The Nile River runs through the capital of Egypt.\n",
      "The Thames River runs through the capital of England.\n",
      "The Potomac River runs through the capital of The United States.\n",
      "The Nile River\n",
      "The Thames River\n",
      "The Potomac River\n",
      "Egypt\n",
      "England\n",
      "The United States\n"
     ]
    }
   ],
   "source": [
    "rivers = {\"nile\":\"egypt\", \"thames\":\"england\", \"potomac\":\"the united states\"}\n",
    "for key, value in rivers.items():\n",
    "    print(f\"The {key.title()} River runs through the capital of {value.title()}.\")\n",
    "for key, value in rivers.items():\n",
    "    print(f\"The {key.title()} River\")\n",
    "for key, value in rivers.items():\n",
    "    print(f\"{value.title()}\")"
   ]
  },
  {
   "cell_type": "markdown",
   "id": "8b0b500d",
   "metadata": {},
   "source": [
    "## Question 6\n",
    "\n",
    "**Cities:** Make a dictionary called `cities`. Use the names of three cities as keys in your dictionary. Create a dictionary of information about each city and include the country that the city is in, its approximate population, and one fact about that city. The keys for each city’s dictionary should be something like `country`, `population`, and `fact`. Print the name of each city and all of the information you have stored about it."
   ]
  },
  {
   "cell_type": "code",
   "execution_count": 26,
   "id": "28a77010",
   "metadata": {},
   "outputs": [
    {
     "name": "stdout",
     "output_type": "stream",
     "text": [
      "\n",
      "City: Knoxville\n",
      "The city of Knoxville is in The United States, has a population of 192,648, and was named after Henry Knox, President Washington's Secretary of War.\n",
      "\n",
      "City: Leipzig\n",
      "The city of Leipzig is in Germany, has a population of 624,689, and is home to Europe's oldest coffee shop, Zum Arabischen Kaffee Baum.\n",
      "\n",
      "City: Adelaide\n",
      "The city of Adelaide is in Australia, has a population of 1,387,290, and was the first city to give women the right to vote.\n"
     ]
    }
   ],
   "source": [
    "cities = {\n",
    "    \"Knoxville\" :{\n",
    "        \"country\":\"the united states\",\n",
    "        \"population\":\"192,648\",\n",
    "        \"fun fact\":\"was named after Henry Knox, President Washington's Secretary of War\",\n",
    "        },\n",
    "    \"Leipzig\" :{\n",
    "        \"country\":\"germany\",\n",
    "        \"population\":\"624,689\",\n",
    "        \"fun fact\":\"is home to Europe's oldest coffee shop, Zum Arabischen Kaffee Baum\",\n",
    "        },\n",
    "    \"Adelaide\" :{\n",
    "        \"country\":\"australia\",\n",
    "        \"population\":\"1,387,290\",\n",
    "        \"fun fact\":\"was the first city to give women the right to vote\",\n",
    "        }, \n",
    "    }\n",
    "for city, info in cities.items():\n",
    "    print(f\"\\nCity: {city}\")\n",
    "    country = info[\"country\"]\n",
    "    population = info[\"population\"]\n",
    "    fun_fact = info[\"fun fact\"]\n",
    "    print(f\"The city of {city.title()} is in {country.title()}, has a population of {population}, and {fun_fact}.\")"
   ]
  },
  {
   "cell_type": "markdown",
   "id": "874541d3",
   "metadata": {},
   "source": [
    "## Question 7\n",
    "\n",
    "**Rental Car:** Write a program that asks the user what kind of rental car they would like. Print a message about that car, such as “Let me see if I can find you a Subaru.”"
   ]
  },
  {
   "cell_type": "code",
   "execution_count": 1,
   "id": "5283628b",
   "metadata": {},
   "outputs": [],
   "source": [
    "car = input(\"What car are you interested in driving today?\")\n",
    "print(\"Great choice, let me see if I can find you a\"+ car)"
   ]
  },
  {
   "cell_type": "markdown",
   "id": "e03a200a",
   "metadata": {},
   "source": [
    "## Question 8\n",
    "\n",
    "**Restaurant Seating:** Write a program that asks the user how many people are in their dinner group. If the answer is more than eight, print a message saying they’ll have to wait for a table. Otherwise, report that their table is ready."
   ]
  },
  {
   "cell_type": "code",
   "execution_count": 3,
   "id": "96167a0f",
   "metadata": {},
   "outputs": [
    {
     "name": "stdout",
     "output_type": "stream",
     "text": [
      "Unfortunately, we must as k you to wait at this time.\n"
     ]
    }
   ],
   "source": [
    "tableopen = int(input(\"How many people will be in your party today?\"))\n",
    "\n",
    "if tableopen >8:\n",
    "    print(\"Unfortunately, we must ask you to wait at this time.\")\n",
    "else:\n",
    "    print(\"The hostess will seat you now.\")"
   ]
  },
  {
   "cell_type": "markdown",
   "id": "a523d8a7",
   "metadata": {},
   "source": [
    "## Question 9\n",
    "\n",
    "**Multiples of Ten:** Ask the user for a number, and then report whether the number is a multiple of 10 or not."
   ]
  },
  {
   "cell_type": "code",
   "execution_count": 11,
   "id": "77c9702e",
   "metadata": {},
   "outputs": [
    {
     "name": "stdout",
     "output_type": "stream",
     "text": [
      "This number is a multiple of 10.\n"
     ]
    }
   ],
   "source": [
    "values = int(input(\"Please pick a number: \"))\n",
    "if values == 0:\n",
    "    print(\"This number is not a multiple of 10.\")\n",
    "elif values%10 == 0:\n",
    "    print(\"This number is a multiple of 10.\")\n",
    "else:\n",
    "    print(\"This number is not a multiple of 10.\")"
   ]
  },
  {
   "cell_type": "markdown",
   "id": "de550983",
   "metadata": {},
   "source": [
    "## Question 10\n",
    "\n",
    "**Pizza Toppings:** Write a loop that prompts the user to enter a series of pizza toppings until they enter a 'quit' value. As they enter each topping, print a message saying you’ll add that topping to their pizza."
   ]
  },
  {
   "cell_type": "code",
   "execution_count": 13,
   "id": "11f4d8e4",
   "metadata": {},
   "outputs": [
    {
     "name": "stdout",
     "output_type": "stream",
     "text": [
      "I'll be sure to add cheese to your pizza.\n",
      "I'll be sure to add cheese, sausage, and pepperoni to your pizza.\n"
     ]
    }
   ],
   "source": [
    "while True:\n",
    "    piz_topping = input(\"What would you like to add to you pizza? When you are done, enter 'quit'.\")\n",
    "    if piz_topping == \"quit\":\n",
    "        break\n",
    "    else:\n",
    "        print(\"I'll be sure to add \"+ piz_topping + \" to your pizza.\")"
   ]
  },
  {
   "cell_type": "markdown",
   "id": "ccfe4831",
   "metadata": {},
   "source": [
    "## Question 11\n",
    "\n",
    "**Message:** Write a function called `display_message()` that prints one sentence telling everyone what you are learning about in this chapter. Call the function, and make sure the message displays correctly."
   ]
  },
  {
   "cell_type": "code",
   "execution_count": 14,
   "id": "7080b52a",
   "metadata": {},
   "outputs": [
    {
     "name": "stdout",
     "output_type": "stream",
     "text": [
      "I am learning how to write the basics of python. This was written with a definition.\n"
     ]
    }
   ],
   "source": [
    "def display_message():\n",
    "    print(\"I am learning how to write the basics of python. This was written with a definition.\")\n",
    "display_message()"
   ]
  },
  {
   "cell_type": "markdown",
   "id": "2b5e23db",
   "metadata": {},
   "source": [
    "## Question 12\n",
    "\n",
    "**Favorite Book:** Write a function called `favorite_book()` that accepts one parameter, title. The function should print a message, such as `One of my favorite books is Alice in Wonderland`. Call the function, making sure to include a book title as an argument in the function call."
   ]
  },
  {
   "cell_type": "code",
   "execution_count": 15,
   "id": "b33bd108",
   "metadata": {},
   "outputs": [
    {
     "name": "stdout",
     "output_type": "stream",
     "text": [
      "My favorite book is 20,000 Leagues Under the Sea by Jules Verne.\n"
     ]
    }
   ],
   "source": [
    "def favorite_books(title, author):\n",
    "    print(\"My favorite book is \" + title + \" by \"+ author + \".\")\n",
    "favorite_books(\"20,000 Leagues Under the Sea\", \"Jules Verne\")"
   ]
  },
  {
   "cell_type": "markdown",
   "id": "4904419f",
   "metadata": {},
   "source": [
    "## Question 13\n",
    "\n",
    "**T-Shirt:** Write a function called `make_shirt()` that accepts a size and the text of a message that should be printed on the shirt. The function should print a sentence summarizing the size of the shirt and the message printed on it.\n",
    "\n",
    "Call the function once using positional arguments to make a shirt. Call the function a second time using keyword arguments."
   ]
  },
  {
   "cell_type": "code",
   "execution_count": 18,
   "id": "53d690ca",
   "metadata": {},
   "outputs": [
    {
     "name": "stdout",
     "output_type": "stream",
     "text": [
      "I need a XL shirt with \"49-52\" on the front of it.\n",
      "I need a Medium shirt with \"\"Dixieland Delight\" is a song about Tennessee\" on the front of it.\n"
     ]
    }
   ],
   "source": [
    "def make_shirt(size, message):\n",
    "    print(\"I need a \"+ size +\" shirt with \"+ message +\" on the front of it.\")\n",
    "make_shirt(\"XL\", '\"49-52\"')\n",
    "make_shirt(\"Medium\", '\"\"Dixieland Delight\" is a song about Tennessee\"')"
   ]
  },
  {
   "cell_type": "markdown",
   "id": "c6a6dc4b",
   "metadata": {},
   "source": [
    "## Question 14\n",
    "\n",
    "**Large Shirts:** Modify the `make_shirt()` function so that shirts are large by default with a message that reads _I love Python_. Make a large shirt and a medium shirt with the default message, and a shirt of any size with a different message."
   ]
  },
  {
   "cell_type": "code",
   "execution_count": 21,
   "id": "658f7e3f",
   "metadata": {},
   "outputs": [
    {
     "name": "stdout",
     "output_type": "stream",
     "text": [
      "I need a shirt size Large with the message \"I love python\" on it.\n",
      "I need a shirt size medium with the message \"I love python\" on it.\n",
      "I need a shirt size XL with the message \"Rocky Top!\" on it.\n"
     ]
    }
   ],
   "source": [
    "def make_shirt(size = \"Large\", message = '\"I love python\"'):\n",
    "    print(\"I need a shirt size \"+ size +\" with the message \"+ message +\" on it.\")\n",
    "make_shirt()\n",
    "make_shirt(size = \"medium\")\n",
    "make_shirt(size = \"XL\", message = '\"Rocky Top!\"')"
   ]
  },
  {
   "cell_type": "markdown",
   "id": "64fd6e85",
   "metadata": {},
   "source": [
    "## Question 15\n",
    "\n",
    "**Cities:** Write a function called `describe_city()` that accepts the name of a city and its country. The function should print a simple sentence, such as `Reykjavik is in Iceland`. Give the parameter for the country a default value. Call your function for three different cities, at least one of which is not in the default country."
   ]
  },
  {
   "cell_type": "code",
   "execution_count": 22,
   "id": "bc493373",
   "metadata": {},
   "outputs": [
    {
     "name": "stdout",
     "output_type": "stream",
     "text": [
      "New York is in the USA.\n",
      "Sacramento is in the USA.\n",
      "Belfast is in North of Ireland.\n"
     ]
    }
   ],
   "source": [
    "def describe_city(city, country = \"the USA\"):\n",
    "    print(city + \" is in \"+ country +\".\")\n",
    "describe_city(\"New York\")\n",
    "describe_city(\"Sacramento\")\n",
    "describe_city(\"Belfast\", country = \"North of Ireland\")"
   ]
  },
  {
   "cell_type": "markdown",
   "id": "259cdcdc",
   "metadata": {},
   "source": [
    "## Question 16\n",
    "\n",
    "**City Names:** Write a function called `city_country()` that takes in the name of a city and its country. The function should return a string formatted like this:\n",
    "\n",
    "```text\n",
    "Santiago, Chile\n",
    "```\n",
    "\n",
    "Call your function with at least three city-country pairs, and print the values that are returned."
   ]
  },
  {
   "cell_type": "code",
   "execution_count": 23,
   "id": "f1b5b16e",
   "metadata": {},
   "outputs": [
    {
     "name": "stdout",
     "output_type": "stream",
     "text": [
      "Hong Kong, China\n",
      "Los Angeles, USA\n",
      "Lappeenranta, Finland\n"
     ]
    }
   ],
   "source": [
    "def city_country(city, country):\n",
    "    return city+\", \"+ country\n",
    "print(city_country(\"Hong Kong\", \"China\"))\n",
    "print(city_country(\"Los Angeles\", \"USA\"))\n",
    "print(city_country(\"Lappeenranta\", \"Finland\"))"
   ]
  },
  {
   "cell_type": "markdown",
   "id": "491f64a4",
   "metadata": {},
   "source": [
    "## Question 17\n",
    "\n",
    "**Album:** Write a function called `make_album()` that builds a dictionary describing a music album. The function should take in an artist name and an album title, and it should return a dictionary containing these two pieces of information. Use the function to make three dictionaries representing different albums. Print each return value to show that the dictionaries are storing the album information correctly.\n",
    "\n",
    "Use None to add an optional parameter to make_album() that allows you to store the number of songs on an album. If the calling line includes a value for the number of songs, add that value to the album’s dictionary. Make at least one new function call that includes the number of songs on an album."
   ]
  },
  {
   "cell_type": "code",
   "execution_count": 20,
   "id": "550b2be6",
   "metadata": {},
   "outputs": [
    {
     "name": "stdout",
     "output_type": "stream",
     "text": [
      "\"L-O-V-E\" is an album by Nat \"King\" Cole and includes 11 tracks.\n",
      "\"at last!\" is an album by Etta James and includes 14 tracks.\n",
      "\"Renewal\" is an album by Billie Strings.\n"
     ]
    }
   ],
   "source": [
    "def make_album(artist, title, song_cnt):\n",
    "    album = {\"artist\": artist, \"title\": title, \"songs\": song_cnt}\n",
    "    return album\n",
    "alb1 = make_album('Nat \"King\" Cole', '\"L-O-V-E\"', \" and includes 11 tracks\")\n",
    "alb2 = make_album(\"Etta James\", '\"at last!\"', \" and includes 14 tracks\")\n",
    "alb3 = make_album(\"Billie Strings\", '\"Renewal\"', \"\")\n",
    "print(alb1[\"title\"] +\" is an album by \"+ alb1[\"artist\"] + alb1[\"songs\"]+\".\")\n",
    "print(alb2[\"title\"] +\" is an album by \"+ alb2[\"artist\"] + alb2[\"songs\"]+'.')\n",
    "print(alb3[\"title\"] +\" is an album by \"+ alb3[\"artist\"] + alb3[\"songs\"]+\".\")"
   ]
  },
  {
   "cell_type": "markdown",
   "id": "42f6a72f",
   "metadata": {},
   "source": [
    "## Question 18\n",
    "\n",
    "**User Albums:** Start with your program from Question 17. Write a `while` loop that allows users to enter an album’s artist and title. Once you have that information, call `make_album()` with the user’s input and print the dictionary that’s created. Be sure to include a quit value in the `while` loop."
   ]
  },
  {
   "cell_type": "code",
   "execution_count": 44,
   "id": "2ba9b4ba",
   "metadata": {},
   "outputs": [
    {
     "name": "stdout",
     "output_type": "stream",
     "text": [
      "Provide an artist's name or type 'quit' to quit the program\n",
      "Californication was written by The Red Hot Chili Peppers.\n"
     ]
    }
   ],
   "source": [
    "def make_album(artist, title):\n",
    "    album = {\"artist\": artist, \"title\": title}\n",
    "    return album\n",
    "\n",
    "print(\"Provide an artist's name or type 'quit' to quit the program\")\n",
    "while True:\n",
    "    artist = input(\"Artist: \")\n",
    "    if artist == \"quit\":\n",
    "        break\n",
    "    title = input(\"Album Title: \")\n",
    "    if title == \"quit\":\n",
    "        break\n",
    "    album = make_album(artist, title)\n",
    "    print(album[\"title\"] + \" was written by \"+ album[\"artist\"]+ \".\")"
   ]
  },
  {
   "cell_type": "markdown",
   "id": "97bab8c2",
   "metadata": {},
   "source": [
    "## Question 19\n",
    "\n",
    "**Messages:** Make a list containing a series of short text messages. Pass the list to a function called `show_messages()`, which prints each text message."
   ]
  },
  {
   "cell_type": "code",
   "execution_count": 45,
   "id": "f8f3ee4e",
   "metadata": {},
   "outputs": [
    {
     "name": "stdout",
     "output_type": "stream",
     "text": [
      "Hey! Do you want to go to the game today?\n",
      "What are you doing right now?\n",
      "Thanks for the letter! It came in the mail today!\n",
      "Let's go grab something to eat.\n"
     ]
    }
   ],
   "source": [
    "imessages = [\"Hey! Do you want to go to the game today?\", \"What are you doing right now?\", \"Thanks for the letter! It came in the mail today!\", \"Let's go grab something to eat.\"]\n",
    "def show_texts(message):\n",
    "    for x in message:\n",
    "        print(x)\n",
    "show_texts(imessages)"
   ]
  },
  {
   "cell_type": "markdown",
   "id": "a8bcea3c",
   "metadata": {},
   "source": [
    "## Question 20\n",
    "\n",
    "**Sending Messages:** Start with a copy of your program from Question 19. Write a function called `send_messages()` that prints each text message and moves each message to a new list called `sent_messages` as it’s printed. After calling the function, print both of your lists to make sure the messages were moved correctly."
   ]
  },
  {
   "cell_type": "code",
   "execution_count": 47,
   "id": "c5340719",
   "metadata": {},
   "outputs": [
    {
     "name": "stdout",
     "output_type": "stream",
     "text": [
      "Hey! Do you want to go to the game today?\n",
      "What are you doing right now?\n",
      "Thanks for the letter! It came in the mail today!\n",
      "Let's go grab something to eat.\n",
      "['Hey! Do you want to go to the game today?', 'What are you doing right now?', 'Thanks for the letter! It came in the mail today!', \"Let's go grab something to eat.\"]\n",
      "['Hey! Do you want to go to the game today?', 'What are you doing right now?', 'Thanks for the letter! It came in the mail today!', \"Let's go grab something to eat.\"]\n"
     ]
    }
   ],
   "source": [
    "imessages = [\"Hey! Do you want to go to the game today?\", \"What are you doing right now?\", \"Thanks for the letter! It came in the mail today!\", \"Let's go grab something to eat.\"]\n",
    "sent_messages =[]\n",
    "def send_message(message):\n",
    "    for x in message:\n",
    "        print(x)\n",
    "        sent_messages.append(x)\n",
    "send_message(imessages)\n",
    "print(imessages)\n",
    "print(sent_messages)"
   ]
  },
  {
   "cell_type": "markdown",
   "id": "c98f1dd0",
   "metadata": {},
   "source": [
    "## Question 21\n",
    "\n",
    "**Learning Python:** Open a blank file in your text editor and write a few lines summarizing what you’ve learned about Python so far. Start each line with the phrase _In Python you can. . .._ Save the file as _learning_python.txt_ in the same directory as your exercises from this chapter. Write a program that reads the file and prints what you wrote three times. Print the contents once by reading in the entire file, once by looping over the file object, and once by storing the lines in a list and then working with them outside the _with_ block."
   ]
  },
  {
   "cell_type": "code",
   "execution_count": 1,
   "id": "cb5da040",
   "metadata": {},
   "outputs": [
    {
     "name": "stdout",
     "output_type": "stream",
     "text": [
      "In Python you can access the more popular repositories\n",
      "In Python you can create lists, dictionaries, or commands.\n",
      "In Python you can create tools that are necessary for GIS.\n",
      "\n",
      "\n",
      "1 In Python you can access the more popular repositories\n",
      "\n",
      "1 In Python you can create lists, dictionaries, or commands.\n",
      "\n",
      "1 In Python you can create tools that are necessary for GIS. \n",
      "\n",
      "\n",
      "\n",
      "In Python you can access the more popular repositories\n",
      "\n",
      "In Python you can create lists, dictionaries, or commands.\n",
      "\n",
      "In Python you can create tools that are necessary for GIS. \n",
      "\n"
     ]
    }
   ],
   "source": [
    "with open(\"learning_python.txt\") as file_object:\n",
    "    statements = file_object.read()\n",
    "    print(statements.rstrip())\n",
    "print(\"\\n\")\n",
    "with open(\"learning_python.txt\") as file_object:\n",
    "    n=1\n",
    "    for line in file_object:\n",
    "        print(n, line)\n",
    "        n + 1\n",
    "print(\"\\n\")\n",
    "lines = []\n",
    "with open(\"learning_python.txt\") as file_object:\n",
    "    lines = file_object.readlines()\n",
    "for line in lines:\n",
    "    print(line)"
   ]
  },
  {
   "cell_type": "markdown",
   "id": "4a1a04ad",
   "metadata": {},
   "source": [
    "## Question 22\n",
    "\n",
    "**Learning C:** You can use the replace() method to replace any word in a string with a different word. Here’s a quick example showing how to replace 'dog' with 'cat' in a sentence:\n",
    "\n",
    "```text\n",
    "message = \"I really like dogs.\"\n",
    "message.replace('dog', 'cat')\n",
    "'I really like cats.'\n",
    "```\n",
    "\n",
    "Read in each line from the file you just created, _learning_python.txt_, and replace the word _Python_ with the name of another language, such as _C_. Print each modified line to the screen."
   ]
  },
  {
   "cell_type": "code",
   "execution_count": 2,
   "id": "b11b8018",
   "metadata": {},
   "outputs": [
    {
     "name": "stdout",
     "output_type": "stream",
     "text": [
      "In C++ you can access the more popular repositories\n",
      "\n",
      "In C++ you can create lists, dictionaries, or commands.\n",
      "\n",
      "In C++ you can create tools that are necessary for GIS. \n",
      "\n"
     ]
    }
   ],
   "source": [
    "lines = []\n",
    "with open('learning_python.txt') as file_object:\n",
    "    lines = file_object.readlines()\n",
    "for line in lines:\n",
    "    line = line.replace('Python', 'C++')\n",
    "    print(line)"
   ]
  },
  {
   "cell_type": "markdown",
   "id": "0921244a",
   "metadata": {},
   "source": [
    "## Question 23\n",
    "\n",
    "**Guest:** Write a program that prompts the user for their name. When they respond, write their name to a file called guest.txt."
   ]
  },
  {
   "cell_type": "code",
   "execution_count": 3,
   "id": "340d8f4b",
   "metadata": {},
   "outputs": [],
   "source": [
    "name = input(\"What is your name: \")\n",
    "with open(\"guest.txt\", \"w\") as file_guest:\n",
    "    file_guest.write(name)"
   ]
  },
  {
   "cell_type": "markdown",
   "id": "24b72b21",
   "metadata": {},
   "source": [
    "## Question 24\n",
    "\n",
    "**Guest Book:** Write a while loop that prompts users for their name. When they enter their name, print a greeting to the screen and add a line recording their visit in a file called guest_book.txt. Make sure each entry appears on a new line in the file."
   ]
  },
  {
   "cell_type": "code",
   "execution_count": 5,
   "id": "2326c653",
   "metadata": {},
   "outputs": [
    {
     "name": "stdout",
     "output_type": "stream",
     "text": [
      "Hi Luke, thank you for signing in. I have addded you to the guest book!\n",
      "Hi Michael, thank you for signing in. I have addded you to the guest book!\n",
      "Hi Tom, thank you for signing in. I have addded you to the guest book!\n",
      "Hi Julia, thank you for signing in. I have addded you to the guest book!\n",
      "Hi Julia, thank you for signing in. I have addded you to the guest book!\n"
     ]
    }
   ],
   "source": [
    "with open (\"guest_book.txt\", \"w\") as file_guest:\n",
    "    while True:\n",
    "        name = input(\"Please provide your name (or type 'quit' to quit): \")\n",
    "        if name == 'quit':\n",
    "            break\n",
    "        else:\n",
    "            print(\"Hi \"+ name +\", thank you for signing in. I have addded you to the guest book!\")\n",
    "    file_guest.write(name+\"\\n\")"
   ]
  },
  {
   "cell_type": "markdown",
   "id": "f3075d32",
   "metadata": {},
   "source": [
    "## Question 25\n",
    "\n",
    "**Programming Poll:** Write a while loop that asks people why they like programming. Each time someone enters a reason, add their reason to a file that stores all the responses."
   ]
  },
  {
   "cell_type": "code",
   "execution_count": 9,
   "id": "042dfb04",
   "metadata": {},
   "outputs": [],
   "source": [
    "with open(\"survey.txt\", \"w\") as file_survey:\n",
    "    while True:\n",
    "        why = input(\"What do you enjoy about using programming? (or type 'quit' to cancel): \")\n",
    "        if why == 'quit':\n",
    "            break\n",
    "        else:\n",
    "            file_survey.write(why+\"\\n\")"
   ]
  },
  {
   "cell_type": "markdown",
   "id": "ed07a1ca",
   "metadata": {},
   "source": [
    "## Question 26\n",
    "\n",
    "**Addition:** One common problem when prompting for numerical input occurs when people provide text instead of numbers. When you try to convert the input to an int, you’ll get a ValueError. Write a program that prompts for two numbers. Add them together and print the result. Catch the ValueError if either input value is not a number, and print a friendly error message. Test your program by entering two numbers and then by entering some text instead of a number."
   ]
  },
  {
   "cell_type": "code",
   "execution_count": 14,
   "id": "eaf686f8",
   "metadata": {},
   "outputs": [
    {
     "name": "stdout",
     "output_type": "stream",
     "text": [
      "245603991\n"
     ]
    }
   ],
   "source": [
    "try:\n",
    "    a = int(input(\"Please enter a number: \"))\n",
    "    b = int(input(\"Please enter a second variable: \"))\n",
    "    print(a + b)\n",
    "except ValueError:\n",
    "    print(\"One or more of your inputs are non-numerical, please provide an integer value.\")"
   ]
  },
  {
   "cell_type": "markdown",
   "id": "09db5341",
   "metadata": {},
   "source": [
    "## Question 27\n",
    "\n",
    "**Addition Calculator:** Wrap your code from Question 26 in a while loop so the user can continue entering numbers even if they make a mistake and enter text instead of a number."
   ]
  },
  {
   "cell_type": "code",
   "execution_count": 15,
   "id": "916c769d",
   "metadata": {},
   "outputs": [
    {
     "name": "stdout",
     "output_type": "stream",
     "text": [
      "One or more of your inputs are non-numerical, please provide an integer value.\n",
      "580\n"
     ]
    }
   ],
   "source": [
    "while True:\n",
    "    try:\n",
    "        a = int(input(\"Please enter a number: \"))\n",
    "        b = int(input(\"Please enter a second variable: \"))\n",
    "        print(a + b)\n",
    "        break\n",
    "    except ValueError:\n",
    "        print(\"One or more of your inputs are non-numerical, please provide an integer value.\")"
   ]
  },
  {
   "cell_type": "markdown",
   "id": "288099a9",
   "metadata": {},
   "source": [
    "## Question 28\n",
    "\n",
    "**Cats and Dogs:** Make two files, _cats.txt_ and _dogs.txt_. Store at least three names of cats in the first file and three names of dogs in the second file. Write a program that tries to read these files and print the contents of the file to the screen. Wrap your code in a `try-except` block to catch the `FileNotFound` error, and print a friendly message if a file is missing. Move one of the files to a different location on your system, and make sure the code in the `except` block executes properly."
   ]
  },
  {
   "cell_type": "code",
   "execution_count": 17,
   "id": "387672f6",
   "metadata": {},
   "outputs": [
    {
     "name": "stdout",
     "output_type": "stream",
     "text": [
      "Lola\n",
      "Evie\n",
      "Schafer\n",
      "\n",
      "\n",
      "\n",
      "Sorry, the file being referenced can not be located. Please try another name.\n"
     ]
    }
   ],
   "source": [
    "try: \n",
    "    with open(\"dogs.txt\") as dog_names:\n",
    "        print(dog_names.read())\n",
    "except FileNotFoundError:\n",
    "    print(\"Sorry, the file being referenced can not be located. Please try another name.\")\n",
    "print(\"\\n\\n\")\n",
    "try:\n",
    "    with open(\"cats.txt\") as cat_names:\n",
    "        print(cat_names.read())\n",
    "except FileNotFoundError:\n",
    "    print(\"Sorry, the file being referenced can not be located. Please try another name.\")\n",
    "    "
   ]
  },
  {
   "cell_type": "markdown",
   "id": "e9d28546",
   "metadata": {},
   "source": [
    "## Question 29\n",
    "\n",
    "**Silent Cats and Dogs:** Modify your except block in Question 28 to fail silently if either file is missing."
   ]
  },
  {
   "cell_type": "code",
   "execution_count": 18,
   "id": "2b972722",
   "metadata": {},
   "outputs": [
    {
     "name": "stdout",
     "output_type": "stream",
     "text": [
      "Lola\n",
      "Evie\n",
      "Schafer\n",
      "\n",
      "\n",
      "\n"
     ]
    }
   ],
   "source": [
    "try: \n",
    "    with open(\"dogs.txt\") as dog_names:\n",
    "        print(dog_names.read())\n",
    "except FileNotFoundError:\n",
    "    pass\n",
    "print(\"\\n\\n\")\n",
    "try:\n",
    "    with open(\"cats.txt\") as cat_names:\n",
    "        print(cat_names.read())\n",
    "except FileNotFoundError:\n",
    "    pass"
   ]
  },
  {
   "cell_type": "markdown",
   "id": "241ffab1",
   "metadata": {},
   "source": [
    "## Question 30\n",
    "\n",
    "**Common Words:** Visit Project Gutenberg (<https://gutenberg.org/>) and find a few texts you’d like to analyze. Download the text files for these works, or copy the raw text from your browser into a text file on your computer. You can use the `count()` method to find out how many times a word or phrase appears in a string. For example, the following code counts the number of times 'row' appears in a string:"
   ]
  },
  {
   "cell_type": "code",
   "execution_count": 21,
   "id": "2a017ac9",
   "metadata": {},
   "outputs": [
    {
     "data": {
      "text/plain": [
       "2"
      ]
     },
     "execution_count": 21,
     "metadata": {},
     "output_type": "execute_result"
    }
   ],
   "source": [
    "line = \"Row, row, row your boat\"\n",
    "line.count('row')"
   ]
  },
  {
   "cell_type": "code",
   "execution_count": null,
   "id": "41707165",
   "metadata": {},
   "outputs": [],
   "source": [
    "line.lower().count('row')"
   ]
  },
  {
   "cell_type": "markdown",
   "id": "5652cc4d",
   "metadata": {},
   "source": [
    "Notice that converting the string to lowercase using lower() catches all appearances of the word you’re looking for, regardless of how it’s formatted.\n",
    "\n",
    "Write a program that reads the files you found at Project Gutenberg and determines how many times the word `the` appears in each text. This will be an approximation because it will also count words such as `then` and `there`. Try counting `the`, with a space in the string, and see how much lower your count is."
   ]
  },
  {
   "cell_type": "code",
   "execution_count": 58,
   "id": "55ab2af3",
   "metadata": {},
   "outputs": [
    {
     "name": "stdout",
     "output_type": "stream",
     "text": [
      "The Hounds of the Baskervilles by Sir Arthur Conan Doyle has the word \"the\" 2901 times.\n",
      "The Man in the Brown Suit by Agatha Christie has the word \"the\" 3149 times.\n",
      "The Count of Monte Cristo by Alexandre Dumas has the word \"the\" 23573 times.\n"
     ]
    }
   ],
   "source": [
    "with open(\"TheHoundOfTheBaskervilles.txt\") as HotB:\n",
    "    HotBlines = HotB.readlines()\n",
    "    the_count = 0\n",
    "    for line in HotBlines:\n",
    "        the_count +=line.lower().count(\" the \")\n",
    "    print('The Hounds of the Baskervilles by Sir Arthur Conan Doyle has the word \"the\" '+ str(the_count) + \" times.\")\n",
    "with open(\"TheManInTheBrownSuit.txt\", encoding=\"utf8\") as MBSuit:\n",
    "    MBSlines = MBSuit.readlines()\n",
    "    the_count = 0\n",
    "    for MBSline in MBSlines:\n",
    "        the_count += MBSline.lower().count(\" the \")\n",
    "    print('The Man in the Brown Suit by Agatha Christie has the word \"the\" '+ str(the_count) +\" times.\")\n",
    "with open(\"TheCountOfMonteCristo.txt\", encoding=\"utf8\") as CountMC:\n",
    "    CountMClines = CountMC.readlines()\n",
    "    the_count = 0\n",
    "    for CountMCline in CountMClines:\n",
    "        the_count +=CountMCline.lower().count(\" the \")\n",
    "    print('The Count of Monte Cristo by Alexandre Dumas has the word \"the\" '+ str(the_count) +\" times.\")"
   ]
  }
 ],
 "metadata": {
  "kernelspec": {
   "display_name": "Python 3.9.12 ('base')",
   "language": "python",
   "name": "python3"
  },
  "language_info": {
   "codemirror_mode": {
    "name": "ipython",
    "version": 3
   },
   "file_extension": ".py",
   "mimetype": "text/x-python",
   "name": "python",
   "nbconvert_exporter": "python",
   "pygments_lexer": "ipython3",
   "version": "3.9.12"
  },
  "vscode": {
   "interpreter": {
    "hash": "ad2bdc8ecc057115af97d19610ffacc2b4e99fae6737bb82f5d7fb13d2f2c186"
   }
  }
 },
 "nbformat": 4,
 "nbformat_minor": 5
}
